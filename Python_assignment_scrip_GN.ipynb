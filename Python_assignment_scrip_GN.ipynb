{
 "cells": [
  {
   "cell_type": "markdown",
   "metadata": {},
   "source": [
    "## Python_Assignment\n"
   ]
  },
  {
   "cell_type": "code",
   "execution_count": 1,
   "metadata": {},
   "outputs": [],
   "source": [
    "\n",
    "from Bio import SeqIO\n",
    "\n",
    "from Bio.Data import CodonTable\n",
    "\n",
    "import pandas as pd\n"
   ]
  },
  {
   "cell_type": "markdown",
   "metadata": {},
   "source": [
    "## Function\n",
    "\n",
    "1. Document Dr. X's function with comments and with markdown text in your Jupyter notebook"
   ]
  },
  {
   "cell_type": "code",
   "execution_count": 2,
   "metadata": {},
   "outputs": [],
   "source": [
    "def get_sequences_from_file(fasta_fn): # define a function to get sequences from fasta files\n",
    "    sequence_data_dict = {} # create a dictionary\n",
    "    for record in SeqIO.parse(fasta_fn, \"fasta\"): # start a for-loop over the records in the fasta file \n",
    "        description = record.description.split() # extract the unique elements\n",
    "        species_name = description[1] + \" \" + description[2] # create species_name by extracting element 1 and space and then element 2 in discription\n",
    "        sequence_data_dict[species_name] = record.seq # the dictionary contains \"species_name\" as key and sequence as value \n",
    "    return(sequence_data_dict) # reture to the sequense data dictionary"
   ]
  },
  {
   "cell_type": "code",
   "execution_count": 3,
   "metadata": {},
   "outputs": [],
   "source": [
    "seq = get_sequences_from_file(\"bears_cytb.fasta\")"
   ]
  },
  {
   "cell_type": "code",
   "execution_count": 4,
   "metadata": {},
   "outputs": [
    {
     "name": "stdout",
     "output_type": "stream",
     "text": [
      "Table 2 Vertebrate Mitochondrial, SGC1\n",
      "\n",
      "  |  T      |  C      |  A      |  G      |\n",
      "--+---------+---------+---------+---------+--\n",
      "T | TTT F   | TCT S   | TAT Y   | TGT C   | T\n",
      "T | TTC F   | TCC S   | TAC Y   | TGC C   | C\n",
      "T | TTA L   | TCA S   | TAA Stop| TGA W   | A\n",
      "T | TTG L   | TCG S   | TAG Stop| TGG W   | G\n",
      "--+---------+---------+---------+---------+--\n",
      "C | CTT L   | CCT P   | CAT H   | CGT R   | T\n",
      "C | CTC L   | CCC P   | CAC H   | CGC R   | C\n",
      "C | CTA L   | CCA P   | CAA Q   | CGA R   | A\n",
      "C | CTG L   | CCG P   | CAG Q   | CGG R   | G\n",
      "--+---------+---------+---------+---------+--\n",
      "A | ATT I(s)| ACT T   | AAT N   | AGT S   | T\n",
      "A | ATC I(s)| ACC T   | AAC N   | AGC S   | C\n",
      "A | ATA M(s)| ACA T   | AAA K   | AGA Stop| A\n",
      "A | ATG M(s)| ACG T   | AAG K   | AGG Stop| G\n",
      "--+---------+---------+---------+---------+--\n",
      "G | GTT V   | GCT A   | GAT D   | GGT G   | T\n",
      "G | GTC V   | GCC A   | GAC D   | GGC G   | C\n",
      "G | GTA V   | GCA A   | GAA E   | GGA G   | A\n",
      "G | GTG V(s)| GCG A   | GAG E   | GGG G   | G\n",
      "--+---------+---------+---------+---------+--\n"
     ]
    }
   ],
   "source": [
    "from Bio.Data import CodonTable # import Codon table from Bio.Data\n",
    "mito_table = CodonTable.unambiguous_dna_by_name[\"Vertebrate Mitochondrial\"] # get the codon table and name it mito_table\n",
    "print(mito_table)"
   ]
  },
  {
   "cell_type": "markdown",
   "metadata": {},
   "source": [
    "2. Write a function that translates a string of nucleotides to amino acids based on Dr. X's pseudo-code suggestion."
   ]
  },
  {
   "cell_type": "code",
   "execution_count": 5,
   "metadata": {},
   "outputs": [],
   "source": [
    "def translate_function(string_nucleotides):\n",
    "    mito_table = CodonTable.unambiguous_dna_by_name[\"Vertebrate Mitochondrial\"] # get codon table and name mito_table\n",
    "    aa_seq_string = \"\" # set an empty string-type of \"aa_seq_string\"\n",
    "    i = 0 # set value of element i to 0\n",
    "    while i < len(string_nucleotides): # A while-loop goes on until the value of \"i\" is equal the length of the sequence defined by string_nucleotides\n",
    "        codon = string_nucleotides[i:i+3] # Create \"codon\" containing string_nucleotides. A codon contains 3 nucleotides (from i to i+3)\n",
    "        if (codon == 'TAG' or codon == 'TAA' or codon == 'AGA' or codon == 'AGG'):\n",
    "            break  # stop the loop if a codon matches to one of the known \"stop\" codons\n",
    "        aa = mito_table.forward_table[codon] # get the aa in mito_table that matches its codon\n",
    "        aa_seq_string += aa # increase the aa_seq_string by adding aa\n",
    "        i += 3 # value of element i is inceased by 3\n",
    "    return(aa_seq_string)"
   ]
  },
  {
   "cell_type": "code",
   "execution_count": 6,
   "metadata": {},
   "outputs": [
    {
     "data": {
      "text/plain": [
       "'MTNIRK'"
      ]
     },
     "execution_count": 6,
     "metadata": {},
     "output_type": "execute_result"
    }
   ],
   "source": [
    "translate_function(\"ATGACCAACATCCGAAAA\") # test the translate_function"
   ]
  },
  {
   "cell_type": "code",
   "execution_count": null,
   "metadata": {},
   "outputs": [],
   "source": [
    "3. Write an alternative translation function"
   ]
  },
  {
   "cell_type": "code",
   "execution_count": 7,
   "metadata": {},
   "outputs": [],
   "source": [
    "def translate_function_alt(nucleotides): # define translate_funtion_alt\n",
    "    from Bio.Seq import Seq # import seq from Bio.Seq package\n",
    "    seq = Seq(nucleotides)  # create seq sequence \n",
    "    aa_seq = seq.translate(table=2, to_stop=True) # translate seq by using transcription table and stop at stop codon\n",
    "    return(str(aa_seq))\n"
   ]
  },
  {
   "cell_type": "code",
   "execution_count": 8,
   "metadata": {},
   "outputs": [
    {
     "data": {
      "text/plain": [
       "'MTNIRK'"
      ]
     },
     "execution_count": 8,
     "metadata": {},
     "output_type": "execute_result"
    }
   ],
   "source": [
    "translate_function_alt(\"ATGACCAACATCCGAAAA\") # test translation_function_alt"
   ]
  },
  {
   "cell_type": "markdown",
   "metadata": {},
   "source": [
    "4. Write a function that calculates the molecular weight of each amino acid sequence"
   ]
  },
  {
   "cell_type": "code",
   "execution_count": 9,
   "metadata": {},
   "outputs": [],
   "source": [
    "from Bio.SeqUtils.ProtParam import ProteinAnalysis\n",
    "def cal_molecular_weight(aa_seq):\n",
    "    aa_seq_Analysed = ProteinAnalysis(aa_seq) # analyses sequence\n",
    "    molecular_weight = aa_seq_Analysed.molecular_weight() # using molecular weight attribute to calculate weight\n",
    "    return(molecular_weight)  # returning the molecular weight"
   ]
  },
  {
   "cell_type": "code",
   "execution_count": 10,
   "metadata": {},
   "outputs": [
    {
     "data": {
      "text/plain": [
       "761.9334"
      ]
     },
     "execution_count": 10,
     "metadata": {},
     "output_type": "execute_result"
    }
   ],
   "source": [
    "cal_molecular_weight(\"MTNIRK\") # test cal_molecular_weight function"
   ]
  },
  {
   "cell_type": "markdown",
   "metadata": {},
   "source": [
    "5. Write a function that computes the GC-content of each DNA sequence."
   ]
  },
  {
   "cell_type": "code",
   "execution_count": 26,
   "metadata": {},
   "outputs": [],
   "source": [
    "def gc_content(string_nucleotides):# another way for GC content\n",
    "    count = 0\n",
    "    for i in string_nucleotides:\n",
    "        if (i == 'G' or i == 'C'):\n",
    "            count += 1\n",
    "    return(count / len(string_nucleotides)*100)"
   ]
  },
  {
   "cell_type": "code",
   "execution_count": 27,
   "metadata": {},
   "outputs": [
    {
     "data": {
      "text/plain": [
       "38.88888888888889"
      ]
     },
     "execution_count": 27,
     "metadata": {},
     "output_type": "execute_result"
    }
   ],
   "source": [
    "gc_content(\"ATGACCAACATCCGAAAA\") #  test gc_content function"
   ]
  },
  {
   "cell_type": "markdown",
   "metadata": {},
   "source": [
    "## Main part of the script"
   ]
  },
  {
   "cell_type": "code",
   "execution_count": 13,
   "metadata": {},
   "outputs": [],
   "source": [
    "cytb_seqs = get_sequences_from_file(\"bears_cytb.fasta\") \n",
    "bears_df = pd.read_csv(\"bears_mass.csv\")\n",
    "species_list = list(bears_df.species)\n"
   ]
  },
  {
   "cell_type": "markdown",
   "metadata": {},
   "source": [
    " 6. Add two new columns to the bears DataFrame: (1) molecular weight and (2) GC content"
   ]
  },
  {
   "cell_type": "code",
   "execution_count": 14,
   "metadata": {},
   "outputs": [
    {
     "data": {
      "text/html": [
       "<div>\n",
       "<style scoped>\n",
       "    .dataframe tbody tr th:only-of-type {\n",
       "        vertical-align: middle;\n",
       "    }\n",
       "\n",
       "    .dataframe tbody tr th {\n",
       "        vertical-align: top;\n",
       "    }\n",
       "\n",
       "    .dataframe thead th {\n",
       "        text-align: right;\n",
       "    }\n",
       "</style>\n",
       "<table border=\"1\" class=\"dataframe\">\n",
       "  <thead>\n",
       "    <tr style=\"text-align: right;\">\n",
       "      <th></th>\n",
       "      <th>species</th>\n",
       "      <th>mass</th>\n",
       "      <th>molecular_weight</th>\n",
       "      <th>GC_content</th>\n",
       "    </tr>\n",
       "  </thead>\n",
       "  <tbody>\n",
       "    <tr>\n",
       "      <th>0</th>\n",
       "      <td>Ursus spelaeus</td>\n",
       "      <td>550.800</td>\n",
       "      <td>Non</td>\n",
       "      <td>Non</td>\n",
       "    </tr>\n",
       "    <tr>\n",
       "      <th>1</th>\n",
       "      <td>Ursus arctos</td>\n",
       "      <td>203.500</td>\n",
       "      <td>Non</td>\n",
       "      <td>Non</td>\n",
       "    </tr>\n",
       "    <tr>\n",
       "      <th>2</th>\n",
       "      <td>Ursus thibetanus</td>\n",
       "      <td>99.714</td>\n",
       "      <td>Non</td>\n",
       "      <td>Non</td>\n",
       "    </tr>\n",
       "    <tr>\n",
       "      <th>3</th>\n",
       "      <td>Melursus ursinus</td>\n",
       "      <td>100.030</td>\n",
       "      <td>Non</td>\n",
       "      <td>Non</td>\n",
       "    </tr>\n",
       "    <tr>\n",
       "      <th>4</th>\n",
       "      <td>Ursus americanus</td>\n",
       "      <td>110.560</td>\n",
       "      <td>Non</td>\n",
       "      <td>Non</td>\n",
       "    </tr>\n",
       "    <tr>\n",
       "      <th>5</th>\n",
       "      <td>Helarctos malayanus</td>\n",
       "      <td>47.020</td>\n",
       "      <td>Non</td>\n",
       "      <td>Non</td>\n",
       "    </tr>\n",
       "    <tr>\n",
       "      <th>6</th>\n",
       "      <td>Ailuropoda melanoleuca</td>\n",
       "      <td>118.200</td>\n",
       "      <td>Non</td>\n",
       "      <td>Non</td>\n",
       "    </tr>\n",
       "    <tr>\n",
       "      <th>7</th>\n",
       "      <td>Tremarctos ornatus</td>\n",
       "      <td>140.700</td>\n",
       "      <td>Non</td>\n",
       "      <td>Non</td>\n",
       "    </tr>\n",
       "    <tr>\n",
       "      <th>8</th>\n",
       "      <td>Ursus maritimus</td>\n",
       "      <td>425.100</td>\n",
       "      <td>Non</td>\n",
       "      <td>Non</td>\n",
       "    </tr>\n",
       "  </tbody>\n",
       "</table>\n",
       "</div>"
      ],
      "text/plain": [
       "                  species     mass molecular_weight GC_content\n",
       "0          Ursus spelaeus  550.800              Non        Non\n",
       "1            Ursus arctos  203.500              Non        Non\n",
       "2        Ursus thibetanus   99.714              Non        Non\n",
       "3        Melursus ursinus  100.030              Non        Non\n",
       "4        Ursus americanus  110.560              Non        Non\n",
       "5     Helarctos malayanus   47.020              Non        Non\n",
       "6  Ailuropoda melanoleuca  118.200              Non        Non\n",
       "7      Tremarctos ornatus  140.700              Non        Non\n",
       "8         Ursus maritimus  425.100              Non        Non"
      ]
     },
     "execution_count": 14,
     "metadata": {},
     "output_type": "execute_result"
    }
   ],
   "source": [
    "import numpy as np\n",
    "import pandas as pd\n",
    "bears_df[\"molecular_weight\"]='Non' # in bears_df data frame add columns \"molecular_weight\" and set value as Non\n",
    "bears_df[\"GC_content\"]='Non' # in bears_df data frame add columns \"GC_content\" and set value as Non\n",
    "bears_df "
   ]
  },
  {
   "cell_type": "markdown",
   "metadata": {},
   "source": [
    "7. Write a for-loop that translates each sequence and also gets molecular weight and computes the GC content of each translated sequence and adds those data to DataFrame"
   ]
  },
  {
   "cell_type": "code",
   "execution_count": 28,
   "metadata": {},
   "outputs": [
    {
     "name": "stdout",
     "output_type": "stream",
     "text": [
      "                  species     mass  molecular_weight  GC_content\n",
      "0          Ursus spelaeus  550.800        42458.7992   43.771930\n",
      "1            Ursus arctos  203.500        42414.7435   43.771930\n",
      "2        Ursus thibetanus   99.714        42306.6735   45.614035\n",
      "3        Melursus ursinus  100.030        42551.9900   45.175439\n",
      "4        Ursus americanus  110.560        42427.7439   43.947368\n",
      "5     Helarctos malayanus   47.020        42560.8910   44.298246\n",
      "6  Ailuropoda melanoleuca  118.200        42702.1845   40.789474\n",
      "7      Tremarctos ornatus  140.700        42384.8266   44.385965\n",
      "8         Ursus maritimus  425.100        42454.7873   44.298246\n"
     ]
    }
   ],
   "source": [
    "molecular_weight = []\n",
    "gc_content = []\n",
    "    \n",
    "for key, value in cytb_seqs.items(): #A for-loop through all elements of the cytb sequence\n",
    "    DNA_seq = (str(value)) # get the DNA_seq \n",
    "    aa_seq = translate_function(DNA_seq) # translate DNA_seq and name as aa_seq\n",
    "    \n",
    "    molecular_weight.append(cal_molecular_weight(aa_seq)) # calculate the molecular weight \n",
    "    gc_content.append(gc_content2(DNA_seq)) # calculate the GC_contents\n",
    "\n",
    "bears_df['molecular_weight'] = molecular_weight # add the molecular_weight into the molecular weight column in the bears_df data frame\n",
    "bears_df['GC_content'] = gc_content  # add the GC_content into the molecular weight column in the bears_df data frame\n",
    "\n",
    "print(bears_df)"
   ]
  },
  {
   "cell_type": "markdown",
   "metadata": {},
   "source": [
    "8. Plot a bar-chart of the mass with the x-axes labeled with species names."
   ]
  },
  {
   "cell_type": "code",
   "execution_count": 29,
   "metadata": {},
   "outputs": [
    {
     "data": {
      "text/plain": [
       "(array([0, 1, 2, 3, 4, 5, 6, 7, 8]),\n",
       " [Text(0, 0, 'Ursus spelaeus'),\n",
       "  Text(1, 0, 'Ursus arctos'),\n",
       "  Text(2, 0, 'Ursus thibetanus'),\n",
       "  Text(3, 0, 'Melursus ursinus'),\n",
       "  Text(4, 0, 'Ursus americanus'),\n",
       "  Text(5, 0, 'Helarctos malayanus'),\n",
       "  Text(6, 0, 'Ailuropoda melanoleuca'),\n",
       "  Text(7, 0, 'Tremarctos ornatus'),\n",
       "  Text(8, 0, 'Ursus maritimus')])"
      ]
     },
     "execution_count": 29,
     "metadata": {},
     "output_type": "execute_result"
    },
    {
     "data": {
      "image/png": "[encoded data removed]",
      "text/plain": [
       "<Figure size 1152x360 with 1 Axes>"
      ]
     },
     "metadata": {},
     "output_type": "display_data"
    }
   ],
   "source": [
    "import matplotlib.pyplot as plt\n",
    "import seaborn as sns\n",
    "get_ipython().run_line_magic('matplotlib', 'inline')\n",
    "\n",
    "plot_dims = (16, 5)\n",
    "sns.set(font_scale = 1.5)\n",
    "fig, ax = plt.subplots(figsize=plot_dims)\n",
    "sns.barplot(x = 'species', y = 'mass', data = bears_df)\n",
    "ax.set(xlabel = 'Species ID', ylabel = 'Mass')\n",
    "plt.xticks(rotation=90)\n"
   ]
  },
  {
   "cell_type": "markdown",
   "metadata": {},
   "source": [
    "*Q1* What is the largest bear species? \n",
    "Ursus Spelaeus\n",
    "*Q2* What else is interesting about this species?\n",
    "#Ursus Spelaeus are found mainly in caves, therefore, they are called cave bears"
   ]
  },
  {
   "cell_type": "markdown",
   "metadata": {},
   "source": [
    "9. Plot a visualization of the molecular weight (y-axis) as a function of GC-content (x-axis)."
   ]
  },
  {
   "cell_type": "code",
   "execution_count": 30,
   "metadata": {},
   "outputs": [
    {
     "name": "stderr",
     "output_type": "stream",
     "text": [
      "C:\\Users\\giang nguyen\\anaconda3\\lib\\site-packages\\seaborn\\_decorators.py:36: FutureWarning: Pass the following variables as keyword args: x, y. From version 0.12, the only valid positional argument will be `data`, and passing other arguments without an explicit keyword will result in an error or misinterpretation.\n",
      "  warnings.warn(\n"
     ]
    },
    {
     "data": {
      "text/plain": [
       "<seaborn.axisgrid.FacetGrid at 0x114f921b490>"
      ]
     },
     "execution_count": 30,
     "metadata": {},
     "output_type": "execute_result"
    },
    {
     "data": {
      "image/png": "[encoded data removed]",
      "text/plain": [
       "<Figure size 1244.78x504 with 1 Axes>"
      ]
     },
     "metadata": {
      "needs_background": "light"
     },
     "output_type": "display_data"
    }
   ],
   "source": [
    "import matplotlib.pyplot as plt\n",
    "import seaborn as sns\n",
    "get_ipython().run_line_magic('matplotlib', 'inline')\n",
    "sns.lmplot( 'GC_content','molecular_weight', data = bears_df, fit_reg=False, height=7, aspect=2.0, hue=\"species\")\n"
   ]
  },
  {
   "cell_type": "markdown",
   "metadata": {},
   "source": [
    "10. Save the new DataFrame to a file called \"bears_mass_cytb.csv\""
   ]
  },
  {
   "cell_type": "code",
   "execution_count": 31,
   "metadata": {},
   "outputs": [],
   "source": [
    "bears_df.to_csv(\"bears_mass_cytb.csv\", index = False)"
   ]
  }
 ],
 "metadata": {
  "kernelspec": {
   "display_name": "Python 3",
   "language": "python",
   "name": "python3"
  },
  "language_info": {
   "codemirror_mode": {
    "name": "ipython",
    "version": 3
   },
   "file_extension": ".py",
   "mimetype": "text/x-python",
   "name": "python",
   "nbconvert_exporter": "python",
   "pygments_lexer": "ipython3",
   "version": "3.8.5"
  }
 },
 "nbformat": 4,
 "nbformat_minor": 4
}
